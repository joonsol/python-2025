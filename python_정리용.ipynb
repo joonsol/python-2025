{
  "nbformat": 4,
  "nbformat_minor": 0,
  "metadata": {
    "colab": {
      "provenance": [],
      "toc_visible": true,
      "authorship_tag": "ABX9TyO4QJBRskBO1UF0YJX8tbNh",
      "include_colab_link": true
    },
    "kernelspec": {
      "name": "python3",
      "display_name": "Python 3"
    },
    "language_info": {
      "name": "python"
    }
  },
  "cells": [
    {
      "cell_type": "markdown",
      "metadata": {
        "id": "view-in-github",
        "colab_type": "text"
      },
      "source": [
        "<a href=\"https://colab.research.google.com/github/joonsol/python-2025/blob/main/python_%EC%A0%95%EB%A6%AC%EC%9A%A9.ipynb\" target=\"_parent\"><img src=\"https://colab.research.google.com/assets/colab-badge.svg\" alt=\"Open In Colab\"/></a>"
      ]
    },
    {
      "cell_type": "code",
      "execution_count": 1,
      "metadata": {
        "colab": {
          "base_uri": "https://localhost:8080/"
        },
        "id": "7Ihy4xgp95qW",
        "outputId": "db591b2c-44f3-42fe-a9ed-07b8eb583a16"
      },
      "outputs": [
        {
          "output_type": "stream",
          "name": "stdout",
          "text": [
            "hello python!\n"
          ]
        }
      ],
      "source": [
        "print(\"hello python!\")"
      ]
    },
    {
      "cell_type": "markdown",
      "source": [
        "# 1.자료형 출력하기"
      ],
      "metadata": {
        "id": "aR5oYlWO9_Ot"
      }
    },
    {
      "cell_type": "code",
      "source": [
        "#정수형\n",
        "x=10\n",
        "y=5\n",
        "z=x+y\n",
        "print(z)\n",
        "print(f\"x:{x} y:{y} z:{z}\")"
      ],
      "metadata": {
        "colab": {
          "base_uri": "https://localhost:8080/"
        },
        "id": "H8dpjV4X-3CM",
        "outputId": "556267d0-feef-4a56-f8d6-30093625185b"
      },
      "execution_count": 4,
      "outputs": [
        {
          "output_type": "stream",
          "name": "stdout",
          "text": [
            "15\n",
            "x:10 y:5 z:15\n"
          ]
        }
      ]
    },
    {
      "cell_type": "code",
      "source": [
        "# 실수형\n",
        "pi =3.14159\n",
        "radius=5\n",
        "area=pi*radius*radius\n",
        "print(area)\n",
        "print(f\"pi:{pi} radius:{radius} area:{area}\")"
      ],
      "metadata": {
        "colab": {
          "base_uri": "https://localhost:8080/"
        },
        "id": "Vitkofd9_NEu",
        "outputId": "bb13797e-7e70-43c5-c54a-6d56d8b92282"
      },
      "execution_count": 6,
      "outputs": [
        {
          "output_type": "stream",
          "name": "stdout",
          "text": [
            "78.53975\n",
            "pi:3.14159 radius:5 area:78.53975\n"
          ]
        }
      ]
    },
    {
      "cell_type": "code",
      "source": [
        "from os import name\n",
        "# 문자열\n",
        "name=\"Jhon\"\n",
        "greeting =f\"Hello ,{name}\"\n",
        "print(greeting)"
      ],
      "metadata": {
        "colab": {
          "base_uri": "https://localhost:8080/"
        },
        "id": "gA77CkIN_cCj",
        "outputId": "2ebe8d1e-7b8c-460c-9534-d13dbbc8e123"
      },
      "execution_count": 7,
      "outputs": [
        {
          "output_type": "stream",
          "name": "stdout",
          "text": [
            "Hello ,Jhon\n"
          ]
        }
      ]
    },
    {
      "cell_type": "code",
      "source": [
        "# boolean\n",
        "is_active=True\n",
        "is_looed_in=False\n",
        "if is_active:\n",
        "  print(\"활성화 상태입니다.\")\n",
        "else:\n",
        "  print(\"비활성화 상태입니다.\")\n",
        "\n",
        "  if is_looed_in:\n",
        "    print(\"로그인 상태입니다.\")\n",
        "  else:\n",
        "    print(\"로그아웃 상태입니다.\")"
      ],
      "metadata": {
        "colab": {
          "base_uri": "https://localhost:8080/"
        },
        "id": "jaPCNQtO_tjL",
        "outputId": "9abd9562-0daf-45f1-8728-94626a0ae962"
      },
      "execution_count": 8,
      "outputs": [
        {
          "output_type": "stream",
          "name": "stdout",
          "text": [
            "활성화 상태입니다.\n"
          ]
        }
      ]
    },
    {
      "cell_type": "code",
      "source": [
        "# list\n",
        "numbers =[1,2,3,4,5]\n",
        "numbers.append(6)\n",
        "print(numbers)\n",
        "print(f\"리스트의 길이:{len(numbers)}\")"
      ],
      "metadata": {
        "colab": {
          "base_uri": "https://localhost:8080/"
        },
        "id": "5bc6vk38AK6r",
        "outputId": "3892ac0c-3b09-43a3-dd37-402f8b66d6a2"
      },
      "execution_count": 14,
      "outputs": [
        {
          "output_type": "stream",
          "name": "stdout",
          "text": [
            "[1, 2, 3, 4, 5, 6]\n",
            "리스트의 길이:6\n"
          ]
        }
      ]
    },
    {
      "cell_type": "code",
      "source": [
        "# tuple\n",
        "coordinates=(10,20)\n",
        "print(coordinates[0])\n",
        "print(coordinates[1])\n",
        "# coordinates[0]=30"
      ],
      "metadata": {
        "colab": {
          "base_uri": "https://localhost:8080/"
        },
        "id": "OCVkxiASAgk2",
        "outputId": "a0371a72-310a-4c40-f5ac-39f723381af2"
      },
      "execution_count": 13,
      "outputs": [
        {
          "output_type": "stream",
          "name": "stdout",
          "text": [
            "10\n",
            "20\n"
          ]
        }
      ]
    },
    {
      "cell_type": "code",
      "source": [
        "# dict\n",
        "person={\"name\":\"John\",\"age\":30,\"city\":\"New York\"}\n",
        "print(person[\"name\"])\n",
        "print(person[\"age\"])\n",
        "print(person[\"city\"])"
      ],
      "metadata": {
        "colab": {
          "base_uri": "https://localhost:8080/"
        },
        "id": "ZItxqtGLAyoj",
        "outputId": "c2bbd2a4-6789-429a-98ce-d0e14eccffa1"
      },
      "execution_count": 15,
      "outputs": [
        {
          "output_type": "stream",
          "name": "stdout",
          "text": [
            "John\n",
            "30\n",
            "New York\n"
          ]
        }
      ]
    },
    {
      "cell_type": "code",
      "source": [
        "# set\n",
        "unique_numbers={1,2,3,4,5,1,2,3}\n",
        "print(unique_numbers)"
      ],
      "metadata": {
        "colab": {
          "base_uri": "https://localhost:8080/"
        },
        "id": "pmnrzBQtBXgG",
        "outputId": "2d1073de-0867-4c30-93e7-799d759b8ab2"
      },
      "execution_count": 16,
      "outputs": [
        {
          "output_type": "stream",
          "name": "stdout",
          "text": [
            "{1, 2, 3, 4, 5}\n"
          ]
        }
      ]
    },
    {
      "cell_type": "markdown",
      "source": [
        "# 2.문자열처리"
      ],
      "metadata": {
        "id": "alnK1ljg-Jq9"
      }
    },
    {
      "cell_type": "code",
      "source": [
        "text =\"Hello, Python\"\n",
        "print(text[0])\n",
        "print(text[2])\n",
        "print(text[-1])\n",
        "print(text[0:5])\n",
        "print(text[7:])\n",
        "print(text[:5])"
      ],
      "metadata": {
        "id": "OCfunp24B_sS"
      },
      "execution_count": null,
      "outputs": []
    },
    {
      "cell_type": "code",
      "source": [
        "name=\"Alice\"\n",
        "age=25\n",
        "print(f\"{name}의 나이는 {age}세 입니다\")\n",
        "\n",
        "#format\n",
        "print(\"{}의 나이는 {}세 입니다\".format(name,age))\n",
        "#%\n",
        "print(\"%s의 나이는 %d세 입니다\"%(name,age))"
      ],
      "metadata": {
        "id": "MYHUaWtsCTvw"
      },
      "execution_count": null,
      "outputs": []
    },
    {
      "cell_type": "code",
      "source": [
        "s=\" Hello Hello\"\n",
        "print(s.strip())\n",
        "print(s.upper())\n",
        "print(s.lower())"
      ],
      "metadata": {
        "id": "WrszIPLQCXXr"
      },
      "execution_count": null,
      "outputs": []
    },
    {
      "cell_type": "code",
      "source": [
        "s = \" Hello \"\n",
        "print(s.strip())  # 'Hello'//양끝 공백만 제거됨"
      ],
      "metadata": {
        "id": "jDeaP0oiCcsi"
      },
      "execution_count": null,
      "outputs": []
    },
    {
      "cell_type": "markdown",
      "source": [
        "#3.사용자입력"
      ],
      "metadata": {
        "id": "YzLUnbgL-O4_"
      }
    },
    {
      "cell_type": "code",
      "source": [
        "name = input(\"이름을 입력하세요: \")\n",
        "print(f\"{name}님, 반갑습니다.\")\n"
      ],
      "metadata": {
        "id": "CiT0roiFCesS"
      },
      "execution_count": null,
      "outputs": []
    },
    {
      "cell_type": "code",
      "source": [
        "x,y = input(\"두 숫자를 입력하세요 (예:10,20): \").split(\",\")\n",
        "print(f\"x:{x} y:{y}\")"
      ],
      "metadata": {
        "colab": {
          "base_uri": "https://localhost:8080/"
        },
        "id": "YMb3gJkPCrBC",
        "outputId": "11af1e5e-c604-4922-c581-c8a33d2b7661"
      },
      "execution_count": 17,
      "outputs": [
        {
          "output_type": "stream",
          "name": "stdout",
          "text": [
            "두 숫자를 입력하세요 (예:10,20): 10,20\n",
            "x:10 y:20\n"
          ]
        }
      ]
    },
    {
      "cell_type": "markdown",
      "source": [
        "#4.연산자"
      ],
      "metadata": {
        "id": "LUZI40Pu-SWt"
      }
    },
    {
      "cell_type": "code",
      "source": [
        "a = int(input(\"첫 번째 숫자를 입력하세요: \"))\n",
        "b = int(input(\"두 번째 숫자를 입력하세요: \"))\n",
        "\n",
        "print(\"덧셈:\", a + b)\n",
        "print(\"뺄셈:\", a - b)\n",
        "print(\"곱셈:\", a * b)\n",
        "print(\"나눗셈:\", a / b)\n",
        "print(\"몫:\", a // b)\n",
        "print(\"나머지:\", a % b)\n",
        "print(\"거듭제곱:\", a ** b)"
      ],
      "metadata": {
        "id": "aAqFgZ7vC_VS"
      },
      "execution_count": null,
      "outputs": []
    },
    {
      "cell_type": "code",
      "source": [
        "age =int(input(\"나이를 입력하세요:\"))\n",
        "\n",
        "is_teenager = age >= 13 and age <= 19\n",
        "\n",
        "print(\"청소년 여부\",is_teenager)"
      ],
      "metadata": {
        "id": "LQyzBeo3DDWr"
      },
      "execution_count": null,
      "outputs": []
    },
    {
      "cell_type": "code",
      "source": [
        "score=int(input(\"점수를 입력하세요\"))\n",
        "\n",
        "if score>=60:\n",
        "    print(\"합격입니다\")\n",
        "else:\n",
        "    print(\"불합격입니다.\")"
      ],
      "metadata": {
        "id": "LMdamuzzDHpy"
      },
      "execution_count": null,
      "outputs": []
    },
    {
      "cell_type": "markdown",
      "source": [
        "# 5.실습문제"
      ],
      "metadata": {
        "id": "DRJTczpr-dK0"
      }
    },
    {
      "cell_type": "code",
      "source": [
        "#사용자로부터 이름과 나이를 입력받아 다음 형식으로 출력하시오.\n",
        "\n",
        "#예: `홍길동님은 25세입니다.`\n",
        "name=(input(\"이름을 입력하세요:\"))\n",
        "age=(input(\"나이를 입력하세요:\"))\n",
        "\n",
        "print(f\"{name}님은 {age}세입니다.\")"
      ],
      "metadata": {
        "colab": {
          "base_uri": "https://localhost:8080/"
        },
        "id": "1qD0tTusDKvy",
        "outputId": "60dfd532-21ab-4f23-c39a-f28634377724"
      },
      "execution_count": 18,
      "outputs": [
        {
          "output_type": "stream",
          "name": "stdout",
          "text": [
            "이름을 입력하세요:alice\n",
            "나이를 입력하세요:20\n",
            "alice님은 20세입니다.\n"
          ]
        }
      ]
    },
    {
      "cell_type": "code",
      "source": [
        "# 두 개의 정수를 입력받아, 덧셈 결과를 출력하시오.\n",
        "\n",
        "# 예: `10 + 20 = 30`"
      ],
      "metadata": {
        "id": "JTjTCsUDDQ9k"
      },
      "execution_count": null,
      "outputs": []
    },
    {
      "cell_type": "code",
      "source": [
        "num1=int(input(\"첫 번째 정수를 입력하세요:\"))\n",
        "num2=int(input(\"두 번째 정수를 입력하세요:\"))\n",
        "\n",
        "print(f\"{num1} + {num2} = {num1+num2}\")"
      ],
      "metadata": {
        "colab": {
          "base_uri": "https://localhost:8080/"
        },
        "id": "mugsIzPSDsPK",
        "outputId": "c0d47c6f-ed3d-466a-b1d2-7b8fc0864f36"
      },
      "execution_count": 19,
      "outputs": [
        {
          "output_type": "stream",
          "name": "stdout",
          "text": [
            "첫 번째 정수를 입력하세요:5\n",
            "두 번째 정수를 입력하세요:6\n",
            "5 + 6 = 11\n"
          ]
        }
      ]
    },
    {
      "cell_type": "code",
      "source": [
        "# 사용자로부터 반지름을 입력받아 원의 넓이를 계산하시오.\n",
        "\n",
        "# (원의 넓이 = 3.14 × 반지름²)\n",
        "pi = 3.14\n",
        "radius = float(input(\"반지름을 입력하세요: \"))#실수로\n",
        "\n",
        "area = pi * radius * radius\n",
        "\n",
        "print(f\"원의 넓이: {area}\")"
      ],
      "metadata": {
        "colab": {
          "base_uri": "https://localhost:8080/"
        },
        "id": "avngLSllDTka",
        "outputId": "efb7c9ac-2da9-49fc-e82a-60f69314656c"
      },
      "execution_count": 20,
      "outputs": [
        {
          "output_type": "stream",
          "name": "stdout",
          "text": [
            "반지름을 입력하세요: 6\n",
            "원의 넓이: 113.03999999999999\n"
          ]
        }
      ]
    },
    {
      "cell_type": "code",
      "source": [
        "# 사용자로부터 정수를 입력받아 짝수인지 홀수인지 판별하시오.\n",
        "num = int(input(\"정수를 입력하세요 : \"))\n",
        "if num%2==0:\n",
        "    print(\"짝수\")\n",
        "else :\n",
        "    print(\"홀수\")\n"
      ],
      "metadata": {
        "colab": {
          "base_uri": "https://localhost:8080/"
        },
        "id": "hmaOIJJvDWa7",
        "outputId": "4923a37c-f640-430b-c423-721e2473c97c"
      },
      "execution_count": 24,
      "outputs": [
        {
          "output_type": "stream",
          "name": "stdout",
          "text": [
            "정수를 입력하세요 : 20\n",
            "짝수\n"
          ]
        }
      ]
    },
    {
      "cell_type": "code",
      "source": [
        "# 사용자로부터 키(cm)와 몸무게(kg)를 입력받아 BMI 지수를 계산하시오.\n",
        "\n",
        "# (BMI = 몸무게 / (키 × 키), 단 키는 m 단위로 변환)\n",
        "height = float(input(\"키를 입력하세요\"))\n",
        "weight = int(input(\"몸무게를 입력하세요\"))\n",
        "\n",
        "height_m=height/100\n",
        "\n",
        "bmi = weight /(height_m**2)\n",
        "\n",
        "print(f\"당신의 BMI는 {bmi}\")"
      ],
      "metadata": {
        "colab": {
          "base_uri": "https://localhost:8080/"
        },
        "id": "RWKJeRynDYyS",
        "outputId": "b0e52a95-42d4-4bf6-fa5b-53713385e717"
      },
      "execution_count": 25,
      "outputs": [
        {
          "output_type": "stream",
          "name": "stdout",
          "text": [
            "키를 입력하세요169\n",
            "몸무게를 입력하세요51\n",
            "당신의 BMI는 17.856517628934565\n"
          ]
        }
      ]
    }
  ]
}