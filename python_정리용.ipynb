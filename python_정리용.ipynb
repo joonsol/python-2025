{
  "nbformat": 4,
  "nbformat_minor": 0,
  "metadata": {
    "colab": {
      "provenance": [],
      "toc_visible": true,
      "authorship_tag": "ABX9TyOGg3L+Bpfkh5API+hFPUAE",
      "include_colab_link": true
    },
    "kernelspec": {
      "name": "python3",
      "display_name": "Python 3"
    },
    "language_info": {
      "name": "python"
    }
  },
  "cells": [
    {
      "cell_type": "markdown",
      "metadata": {
        "id": "view-in-github",
        "colab_type": "text"
      },
      "source": [
        "<a href=\"https://colab.research.google.com/github/joonsol/python-2025/blob/main/python_%EC%A0%95%EB%A6%AC%EC%9A%A9.ipynb\" target=\"_parent\"><img src=\"https://colab.research.google.com/assets/colab-badge.svg\" alt=\"Open In Colab\"/></a>"
      ]
    },
    {
      "cell_type": "code",
      "execution_count": null,
      "metadata": {
        "colab": {
          "base_uri": "https://localhost:8080/"
        },
        "id": "7Ihy4xgp95qW",
        "outputId": "53dafae9-2baa-4b03-e701-c4d15790b3cc"
      },
      "outputs": [
        {
          "output_type": "stream",
          "name": "stdout",
          "text": [
            "hello python!\n",
            "10\n"
          ]
        }
      ],
      "source": [
        "print(\"hello python!\")\n",
        "print(int(10.5))"
      ]
    },
    {
      "cell_type": "markdown",
      "source": [
        "# 1.자료형 출력하기"
      ],
      "metadata": {
        "id": "aR5oYlWO9_Ot"
      }
    },
    {
      "cell_type": "code",
      "source": [
        "#정수형\n",
        "x=10.5\n",
        "y=5\n",
        "z=x+y\n",
        "print(z)\n",
        "print(f\"x:{x} y:{y} z:{z}\")\n",
        "print(type(z))"
      ],
      "metadata": {
        "colab": {
          "base_uri": "https://localhost:8080/"
        },
        "id": "H8dpjV4X-3CM",
        "outputId": "ac6446fd-0e8d-4427-9728-b17596a9ffe9"
      },
      "execution_count": null,
      "outputs": [
        {
          "output_type": "stream",
          "name": "stdout",
          "text": [
            "15.5\n",
            "x:10.5 y:5 z:15.5\n",
            "<class 'float'>\n"
          ]
        }
      ]
    },
    {
      "cell_type": "code",
      "source": [
        "# 실수형\n",
        "pi =3.14159\n",
        "radius=5\n",
        "area=pi*radius*radius\n",
        "print(area)\n",
        "print(f\"pi:{pi} radius:{radius} area:{area}\")\n",
        "print(type(area))"
      ],
      "metadata": {
        "colab": {
          "base_uri": "https://localhost:8080/"
        },
        "id": "Vitkofd9_NEu",
        "outputId": "0222bb6b-d568-493a-a645-5d717ef06028"
      },
      "execution_count": null,
      "outputs": [
        {
          "output_type": "stream",
          "name": "stdout",
          "text": [
            "78.53975\n",
            "pi:3.14159 radius:5 area:78.53975\n",
            "<class 'float'>\n"
          ]
        }
      ]
    },
    {
      "cell_type": "code",
      "source": [
        "\n",
        "# 문자열\n",
        "name=\"Jhon\"\n",
        "greeting =f\"Hello ,{name}\"\n",
        "print(greeting)\n",
        "print(type(greeting))"
      ],
      "metadata": {
        "colab": {
          "base_uri": "https://localhost:8080/"
        },
        "id": "gA77CkIN_cCj",
        "outputId": "e1c6b707-446c-41d9-89d0-0db60c1965a2"
      },
      "execution_count": null,
      "outputs": [
        {
          "output_type": "stream",
          "name": "stdout",
          "text": [
            "Hello ,Jhon\n",
            "<class 'str'>\n"
          ]
        }
      ]
    },
    {
      "cell_type": "code",
      "source": [
        "# boolean\n",
        "is_active=True\n",
        "is_looed_in=False\n",
        "if is_active:\n",
        "  print(\"활성화 상태입니다.\")\n",
        "else:\n",
        "  print(\"비활성화 상태입니다.\")\n",
        "\n",
        "  if is_looed_in:\n",
        "    print(\"로그인 상태입니다.\")\n",
        "  else:\n",
        "    print(\"로그아웃 상태입니다.\")\n",
        "\n",
        "print(type(is_looed_in))"
      ],
      "metadata": {
        "colab": {
          "base_uri": "https://localhost:8080/"
        },
        "id": "jaPCNQtO_tjL",
        "outputId": "d6c4cdf5-4603-470b-b23b-e442bd9bed22"
      },
      "execution_count": null,
      "outputs": [
        {
          "output_type": "stream",
          "name": "stdout",
          "text": [
            "활성화 상태입니다.\n",
            "<class 'bool'>\n"
          ]
        }
      ]
    },
    {
      "cell_type": "code",
      "source": [
        "# list\n",
        "numbers =[1,2,3,4,5]\n",
        "numbers.append(6)\n",
        "print(numbers)\n",
        "print(f\"리스트의 길이:{len(numbers)}\")\n",
        "\n",
        "print(type(numbers))"
      ],
      "metadata": {
        "colab": {
          "base_uri": "https://localhost:8080/"
        },
        "id": "5bc6vk38AK6r",
        "outputId": "1a5df2c4-c4ad-44e0-c538-5822abdfb6b3"
      },
      "execution_count": null,
      "outputs": [
        {
          "output_type": "stream",
          "name": "stdout",
          "text": [
            "[1, 2, 3, 4, 5, 6]\n",
            "리스트의 길이:6\n",
            "<class 'list'>\n"
          ]
        }
      ]
    },
    {
      "cell_type": "code",
      "source": [
        "# tuple\n",
        "coordinates=(10,20)\n",
        "print(coordinates[0])\n",
        "print(coordinates[1])\n",
        "# coordinates[0]=30"
      ],
      "metadata": {
        "colab": {
          "base_uri": "https://localhost:8080/"
        },
        "id": "OCVkxiASAgk2",
        "outputId": "301889e2-ddcd-4502-e7de-8fa226171ed0"
      },
      "execution_count": null,
      "outputs": [
        {
          "output_type": "stream",
          "name": "stdout",
          "text": [
            "10\n",
            "20\n"
          ]
        }
      ]
    },
    {
      "cell_type": "code",
      "source": [
        "# dict\n",
        "person={\"name\":\"John\",\"age\":30,\"city\":\"New York\"}\n",
        "print(person[\"name\"])\n",
        "print(person[\"age\"])\n",
        "print(person[\"city\"])\n",
        "print(type(person))"
      ],
      "metadata": {
        "colab": {
          "base_uri": "https://localhost:8080/"
        },
        "id": "ZItxqtGLAyoj",
        "outputId": "1597ecd5-28c9-4d10-f9e6-e3fed4397aae"
      },
      "execution_count": null,
      "outputs": [
        {
          "output_type": "stream",
          "name": "stdout",
          "text": [
            "John\n",
            "30\n",
            "New York\n",
            "<class 'dict'>\n"
          ]
        }
      ]
    },
    {
      "cell_type": "code",
      "source": [
        "# set\n",
        "unique_numbers={1,2,3,4,5,1,2,3}\n",
        "print(unique_numbers)\n",
        "print(type(unique_numbers))"
      ],
      "metadata": {
        "colab": {
          "base_uri": "https://localhost:8080/"
        },
        "id": "pmnrzBQtBXgG",
        "outputId": "c592b438-1d1a-49a9-d1f0-2a2f9f572c59"
      },
      "execution_count": null,
      "outputs": [
        {
          "output_type": "stream",
          "name": "stdout",
          "text": [
            "{1, 2, 3, 4, 5}\n",
            "<class 'set'>\n"
          ]
        }
      ]
    },
    {
      "cell_type": "markdown",
      "source": [
        "# 2.문자열처리"
      ],
      "metadata": {
        "id": "alnK1ljg-Jq9"
      }
    },
    {
      "cell_type": "code",
      "source": [
        "text =\"Hello, Python\"\n",
        "print(text[0])\n",
        "print(text[2])\n",
        "print(text[-1])\n",
        "print(text[0:5])\n",
        "print(text[7:])\n",
        "print(text[:5])"
      ],
      "metadata": {
        "id": "OCfunp24B_sS",
        "colab": {
          "base_uri": "https://localhost:8080/"
        },
        "outputId": "ff5ec3c0-f600-4aa9-8f81-c9c23412fd06"
      },
      "execution_count": null,
      "outputs": [
        {
          "output_type": "stream",
          "name": "stdout",
          "text": [
            "H\n",
            "l\n",
            "n\n",
            "Hello\n",
            "Python\n",
            "Hello\n"
          ]
        }
      ]
    },
    {
      "cell_type": "code",
      "source": [
        "name=\"Alice\"\n",
        "age=25\n",
        "print(f\"{name}의 나이는 {age}세 입니다\")\n",
        "\n",
        "#format\n",
        "print(\"{}의 나이는 {}세 입니다\".format(name,age))\n",
        "#%\n",
        "print(\"%s의 나이는 %d세 입니다\"%(name,age))"
      ],
      "metadata": {
        "id": "MYHUaWtsCTvw",
        "colab": {
          "base_uri": "https://localhost:8080/"
        },
        "outputId": "d3e9c58e-77a1-4f0f-8250-d9630cdcc155"
      },
      "execution_count": null,
      "outputs": [
        {
          "output_type": "stream",
          "name": "stdout",
          "text": [
            "Alice의 나이는 25세 입니다\n",
            "Alice의 나이는 25세 입니다\n",
            "Alice의 나이는 25세 입니다\n"
          ]
        }
      ]
    },
    {
      "cell_type": "code",
      "source": [
        "s=\" Hello Hello\"\n",
        "print(s.strip())#앞뒤공백제거\n",
        "print(s.upper())#대문자\n",
        "print(s.lower())#소문자"
      ],
      "metadata": {
        "id": "WrszIPLQCXXr",
        "colab": {
          "base_uri": "https://localhost:8080/"
        },
        "outputId": "6ca35640-fc6e-4d41-fe49-6702ff22a94b"
      },
      "execution_count": null,
      "outputs": [
        {
          "output_type": "stream",
          "name": "stdout",
          "text": [
            "Hello Hello\n",
            " HELLO HELLO\n",
            " hello hello\n"
          ]
        }
      ]
    },
    {
      "cell_type": "code",
      "source": [
        "s = \" Hello \"\n",
        "print(s.strip())  # 'Hello'//양끝 공백만 제거됨"
      ],
      "metadata": {
        "id": "jDeaP0oiCcsi",
        "colab": {
          "base_uri": "https://localhost:8080/"
        },
        "outputId": "b3105139-c406-410a-c553-b95e3620d657"
      },
      "execution_count": null,
      "outputs": [
        {
          "output_type": "stream",
          "name": "stdout",
          "text": [
            "Hello\n"
          ]
        }
      ]
    },
    {
      "cell_type": "markdown",
      "source": [
        "#3.사용자입력"
      ],
      "metadata": {
        "id": "YzLUnbgL-O4_"
      }
    },
    {
      "cell_type": "code",
      "source": [
        "name = input(\"이름을 입력하세요: \")\n",
        "print(f\"{name}님, 반갑습니다.\")\n"
      ],
      "metadata": {
        "id": "CiT0roiFCesS"
      },
      "execution_count": null,
      "outputs": []
    },
    {
      "cell_type": "code",
      "source": [
        "x,y = input(\"두 숫자를 입력하세요 (예:10,20): \").split(\",\")\n",
        "print(f\"x:{x} y:{y}\")"
      ],
      "metadata": {
        "colab": {
          "base_uri": "https://localhost:8080/"
        },
        "id": "YMb3gJkPCrBC",
        "outputId": "11af1e5e-c604-4922-c581-c8a33d2b7661"
      },
      "execution_count": null,
      "outputs": [
        {
          "output_type": "stream",
          "name": "stdout",
          "text": [
            "두 숫자를 입력하세요 (예:10,20): 10,20\n",
            "x:10 y:20\n"
          ]
        }
      ]
    },
    {
      "cell_type": "markdown",
      "source": [
        "#4.연산자"
      ],
      "metadata": {
        "id": "LUZI40Pu-SWt"
      }
    },
    {
      "cell_type": "code",
      "source": [
        "a = int(input(\"첫 번째 숫자를 입력하세요: \"))\n",
        "b = int(input(\"두 번째 숫자를 입력하세요: \"))\n",
        "\n",
        "print(\"덧셈:\", a + b)\n",
        "print(\"뺄셈:\", a - b)\n",
        "print(\"곱셈:\", a * b)\n",
        "print(\"나눗셈:\", a / b)\n",
        "print(\"몫:\", a // b)\n",
        "print(\"나머지:\", a % b)\n",
        "print(\"거듭제곱:\", a ** b)"
      ],
      "metadata": {
        "id": "aAqFgZ7vC_VS"
      },
      "execution_count": null,
      "outputs": []
    },
    {
      "cell_type": "code",
      "source": [
        "age =int(input(\"나이를 입력하세요:\"))\n",
        "\n",
        "is_teenager = age >= 13 and age <= 19\n",
        "\n",
        "print(\"청소년 여부\",is_teenager)"
      ],
      "metadata": {
        "id": "LQyzBeo3DDWr",
        "colab": {
          "base_uri": "https://localhost:8080/"
        },
        "outputId": "6d03b731-771b-480d-c15c-d2095e9fa8fc"
      },
      "execution_count": null,
      "outputs": [
        {
          "output_type": "stream",
          "name": "stdout",
          "text": [
            "나이를 입력하세요:17\n",
            "청소년 여부 True\n"
          ]
        }
      ]
    },
    {
      "cell_type": "code",
      "source": [
        "score=int(input(\"점수를 입력하세요\"))\n",
        "\n",
        "if score>=60:\n",
        "    print(\"합격입니다\")\n",
        "else:\n",
        "    print(\"불합격입니다.\")"
      ],
      "metadata": {
        "id": "LMdamuzzDHpy"
      },
      "execution_count": null,
      "outputs": []
    },
    {
      "cell_type": "markdown",
      "source": [
        "# 5.실습문제"
      ],
      "metadata": {
        "id": "DRJTczpr-dK0"
      }
    },
    {
      "cell_type": "code",
      "source": [
        "#사용자로부터 이름과 나이를 입력받아 다음 형식으로 출력하시오.\n",
        "\n",
        "#예: `홍길동님은 25세입니다.`\n",
        "name=(input(\"이름을 입력하세요:\"))\n",
        "age=(input(\"나이를 입력하세요:\"))\n",
        "\n",
        "print(f\"{name}님은 {age}세입니다.\")"
      ],
      "metadata": {
        "colab": {
          "base_uri": "https://localhost:8080/"
        },
        "id": "1qD0tTusDKvy",
        "outputId": "60dfd532-21ab-4f23-c39a-f28634377724"
      },
      "execution_count": null,
      "outputs": [
        {
          "output_type": "stream",
          "name": "stdout",
          "text": [
            "이름을 입력하세요:alice\n",
            "나이를 입력하세요:20\n",
            "alice님은 20세입니다.\n"
          ]
        }
      ]
    },
    {
      "cell_type": "code",
      "source": [
        "# 두 개의 정수를 입력받아, 덧셈 결과를 출력하시오.\n",
        "\n",
        "# 예: `10 + 20 = 30`"
      ],
      "metadata": {
        "id": "JTjTCsUDDQ9k"
      },
      "execution_count": null,
      "outputs": []
    },
    {
      "cell_type": "code",
      "source": [
        "num1=input(\"첫 번째 정수를 입력하세요:\")\n",
        "num2=input(\"두 번째 정수를 입력하세요:\")\n",
        "# num1=int(input(\"첫 번째 정수를 입력하세요:\"))\n",
        "# num2=int(input(\"두 번째 정수를 입력하세요:\"))\n",
        "\n",
        "print(f\"{num1} + {num2} = {num1+num2}\")"
      ],
      "metadata": {
        "colab": {
          "base_uri": "https://localhost:8080/"
        },
        "id": "mugsIzPSDsPK",
        "outputId": "969e21bb-f45a-4b05-aefc-7bc29970cb22"
      },
      "execution_count": null,
      "outputs": [
        {
          "output_type": "stream",
          "name": "stdout",
          "text": [
            "첫 번째 정수를 입력하세요:10\n",
            "두 번째 정수를 입력하세요:5\n",
            "10 + 5 = 105\n"
          ]
        }
      ]
    },
    {
      "cell_type": "code",
      "source": [
        "# 사용자로부터 반지름을 입력받아 원의 넓이를 계산하시오.\n",
        "\n",
        "# (원의 넓이 = 3.14 × 반지름²)\n",
        "pi = 3.14#float\n",
        "# radius = float(input(\"반지름을 입력하세요: \"))#실수로\n",
        "radius = int(input(\"반지름을 입력하세요: \"))#w정수로\n",
        "\n",
        "# float × int × int → float\n",
        "\n",
        "area = pi * radius * radius\n",
        "\n",
        "print(f\"원의 넓이: {area}\")\n",
        "print(f\"원의 넓이: {area:.2f}\")  # 소수점 둘째자리까지"
      ],
      "metadata": {
        "colab": {
          "base_uri": "https://localhost:8080/"
        },
        "id": "avngLSllDTka",
        "outputId": "6ad3728d-3879-4511-936c-1a58e5406327"
      },
      "execution_count": null,
      "outputs": [
        {
          "output_type": "stream",
          "name": "stdout",
          "text": [
            "반지름을 입력하세요: 6\n",
            "원의 넓이: 113.03999999999999\n",
            "원의 넓이: 113.04\n"
          ]
        }
      ]
    },
    {
      "cell_type": "code",
      "source": [
        "# 사용자로부터 정수를 입력받아 짝수인지 홀수인지 판별하시오.\n",
        "num = int(input(\"정수를 입력하세요 : \"))\n",
        "if num%2==0:\n",
        "    print(\"짝수\")\n",
        "else :\n",
        "    print(\"홀수\")\n"
      ],
      "metadata": {
        "colab": {
          "base_uri": "https://localhost:8080/"
        },
        "id": "hmaOIJJvDWa7",
        "outputId": "4923a37c-f640-430b-c423-721e2473c97c"
      },
      "execution_count": null,
      "outputs": [
        {
          "output_type": "stream",
          "name": "stdout",
          "text": [
            "정수를 입력하세요 : 20\n",
            "짝수\n"
          ]
        }
      ]
    },
    {
      "cell_type": "code",
      "source": [
        "# 사용자로부터 키(cm)와 몸무게(kg)를 입력받아 BMI 지수를 계산하시오.\n",
        "\n",
        "# (BMI = 몸무게 / (키 × 키), 단 키는 m 단위로 변환)\n",
        "height = float(input(\"키를 입력하세요\"))\n",
        "weight = int(input(\"몸무게를 입력하세요\"))\n",
        "\n",
        "height_m=height/100\n",
        "\n",
        "bmi = weight /(height_m**2)\n",
        "\n",
        "print(f\"당신의 BMI는 {bmi}\")"
      ],
      "metadata": {
        "colab": {
          "base_uri": "https://localhost:8080/"
        },
        "id": "RWKJeRynDYyS",
        "outputId": "6bd5dbf4-c79e-47b5-edef-e0b86c395517"
      },
      "execution_count": null,
      "outputs": [
        {
          "output_type": "stream",
          "name": "stdout",
          "text": [
            "키를 입력하세요169\n",
            "몸무게를 입력하세요52\n",
            "당신의 BMI는 18.20664542558034\n"
          ]
        }
      ]
    },
    {
      "cell_type": "markdown",
      "source": [
        "# 6.조건문"
      ],
      "metadata": {
        "id": "HOeQKkZpyMZ7"
      }
    },
    {
      "cell_type": "code",
      "source": [
        "x=10\n",
        "if x>5:\n",
        "    print(\"x는 5보다 큽니다.\")"
      ],
      "metadata": {
        "colab": {
          "base_uri": "https://localhost:8080/"
        },
        "id": "lGfDB76Syami",
        "outputId": "6608eab8-74c7-45fa-a5ee-14f7c09a55f2"
      },
      "execution_count": null,
      "outputs": [
        {
          "output_type": "stream",
          "name": "stdout",
          "text": [
            "x는 5보다 큽니다.\n"
          ]
        }
      ]
    },
    {
      "cell_type": "code",
      "source": [
        "x=int(input(\"숫자를 입력하세요\"))\n",
        "\n",
        "\n",
        "if x>10:\n",
        "    print(\"x는 10보다 큽니다.\")\n",
        "elif x>5:\n",
        "    print(\"x는 5보다 큽니다.\")\n",
        "else:\n",
        "    print(\"x는 5작거나 같습니다.\")\n",
        "\n"
      ],
      "metadata": {
        "colab": {
          "base_uri": "https://localhost:8080/"
        },
        "id": "iHhnEVY_zn4x",
        "outputId": "1b8010f7-d401-42e4-be78-06d538be86fc"
      },
      "execution_count": null,
      "outputs": [
        {
          "output_type": "stream",
          "name": "stdout",
          "text": [
            "숫자를 입력하세요6\n",
            "x는 5보다 큽니다.\n"
          ]
        }
      ]
    },
    {
      "cell_type": "code",
      "source": [
        "# 중첩조건문\n",
        "#age=20\n",
        "#student=True\n",
        "age=int(input(\"나이를 입력하세요: \"))\n",
        "student=input(\"학생이면 '학생' 아니면 '기타'라고 적어주세요 : \")\n",
        "\n",
        "if age>=18:\n",
        "    if student==\"학생\":\n",
        "        print(\"성인 학생입니다.\")\n",
        "    else:\n",
        "        print(\"성인이지만 학생은 아닙니다.\")"
      ],
      "metadata": {
        "colab": {
          "base_uri": "https://localhost:8080/"
        },
        "id": "sTymRU4u0rMB",
        "outputId": "90e1dec5-b42a-4eeb-cbb6-2f4ba72dbe58"
      },
      "execution_count": null,
      "outputs": [
        {
          "output_type": "stream",
          "name": "stdout",
          "text": [
            "나이를 입력하세요18\n",
            "학생이면 '학생' 아니면 '기타'라고 적어주세요학생\n",
            "성인 학생입니다.\n"
          ]
        }
      ]
    },
    {
      "cell_type": "code",
      "source": [
        "# 3항 연산자\n",
        "x=3\n",
        "result =\"x는 5보다 큽니다.\" if x>5 else \"x는 5보다 작거나 같습니다.\"\n",
        "print(result)"
      ],
      "metadata": {
        "colab": {
          "base_uri": "https://localhost:8080/"
        },
        "id": "2EiuMRMjU02o",
        "outputId": "485e8533-4878-44ba-d073-1d2fc9aaee8d"
      },
      "execution_count": null,
      "outputs": [
        {
          "output_type": "stream",
          "name": "stdout",
          "text": [
            "x는 5보다 작거나 같습니다.\n"
          ]
        }
      ]
    },
    {
      "cell_type": "code",
      "source": [
        "# 논리연산자\n",
        "x=7\n",
        "\n",
        "if x>5 and x<10:\n",
        "    print(\"x는 5보다 크고, 10보다 작습니다.\")\n",
        "\n",
        "if x<5 or x>10:\n",
        "    print(\"x는 5보다 작거나 10보다 큽니다.\")\n",
        "else:\n",
        "    print(\"x는 5이상 10이하입니다.\")"
      ],
      "metadata": {
        "colab": {
          "base_uri": "https://localhost:8080/"
        },
        "id": "XYiTAZO81tWg",
        "outputId": "2891a141-f6fc-4ca9-c9bc-30c958510343"
      },
      "execution_count": null,
      "outputs": [
        {
          "output_type": "stream",
          "name": "stdout",
          "text": [
            "x는 5보다 크고, 10보다 작습니다.\n",
            "x는 5이상 10이하입니다.\n"
          ]
        }
      ]
    },
    {
      "cell_type": "code",
      "source": [
        "# 비교연산자\n",
        "x=10\n",
        "y=20\n",
        "\n",
        "if x==y:\n",
        "    print(\"x와 y는 같습니다.\")\n",
        "elif x!= y:\n",
        "    print(\"x와 y는 다릅니다.\")"
      ],
      "metadata": {
        "colab": {
          "base_uri": "https://localhost:8080/"
        },
        "id": "QH9sMPw92mQi",
        "outputId": "8d21c9a1-f768-4046-c27b-b3f1ebc2c994"
      },
      "execution_count": null,
      "outputs": [
        {
          "output_type": "stream",
          "name": "stdout",
          "text": [
            "x와 y는 다릅니다.\n"
          ]
        }
      ]
    },
    {
      "cell_type": "code",
      "source": [
        "# 포함 연산자\n",
        "my_list =[1,2,3,4,5]\n",
        "\n",
        "if 3 in my_list:\n",
        "    print(\"리스트에 3이 포함되어 있습니다.\")\n",
        "\n",
        "if 6 not in my_list:\n",
        "    print(\"리스트에 6이 포함되어 있지 않습니다.\")"
      ],
      "metadata": {
        "colab": {
          "base_uri": "https://localhost:8080/"
        },
        "id": "kFKd_xR93Pop",
        "outputId": "beb53491-6306-490e-8519-269794d7ec0d"
      },
      "execution_count": null,
      "outputs": [
        {
          "output_type": "stream",
          "name": "stdout",
          "text": [
            "리스트에 3이 포함되어 있습니다.\n",
            "리스트에 6이 포함되어 있지 않습니다.\n"
          ]
        }
      ]
    },
    {
      "cell_type": "markdown",
      "source": [
        "# 7.실습문제"
      ],
      "metadata": {
        "id": "bmhCRCJWyQ1Z"
      }
    },
    {
      "cell_type": "code",
      "source": [
        "# 1.사용자로부터 정수를 입력받아 양수, 음수, 0 중 어떤 값인지 출력하세요.\n",
        "x=int(input(\"정수를 입력하세요\"))\n",
        "\n",
        "if x>0:\n",
        "    print(\"양수입니다.\")\n",
        "elif x<0:\n",
        "    print(\"음수입니다.\")\n",
        "else:\n",
        "    print(\"0입니다.\")\n"
      ],
      "metadata": {
        "colab": {
          "base_uri": "https://localhost:8080/"
        },
        "id": "wsMZp0sa3yFY",
        "outputId": "94f9c2d5-48fa-419c-e68d-f45435cb0982"
      },
      "execution_count": null,
      "outputs": [
        {
          "output_type": "stream",
          "name": "stdout",
          "text": [
            "정수를 입력하세요0\n",
            "0입니다.\n"
          ]
        }
      ]
    },
    {
      "cell_type": "code",
      "source": [
        "# 2.사용자로부터 정수를 입력받아 짝수인지 홀수인지 출력하세요.\n",
        "y=int(input(\"정수를 입력하세요\"))\n",
        "\n",
        "if y%2==0:\n",
        "    print(\"짝수입니다.\")\n",
        "else:\n",
        "    print(\"홀수입니다.\")\n"
      ],
      "metadata": {
        "colab": {
          "base_uri": "https://localhost:8080/"
        },
        "id": "0AZtCI9-5-26",
        "outputId": "eebe1c72-e976-46d0-aa57-b2d4a1d8c2b5"
      },
      "execution_count": null,
      "outputs": [
        {
          "output_type": "stream",
          "name": "stdout",
          "text": [
            "정수를 입력하세요48\n",
            "짝수입니다.\n"
          ]
        }
      ]
    },
    {
      "cell_type": "code",
      "source": [
        "# 두 개의 정수를 입력받아 더 큰 값을 출력하세요.\n",
        "x=int(input(\"첫번째 수를 입력하세요\"))\n",
        "y=int(input(\"두번째 수를 입력하세요\"))\n",
        "\n",
        "if x>y :\n",
        "    print(f\" 더 큰수는{x}입니다.\")\n",
        "else:\n",
        "    print(f\" 더 큰수는{y}입니다.\")\n"
      ],
      "metadata": {
        "colab": {
          "base_uri": "https://localhost:8080/"
        },
        "id": "F7GT96hm6WPw",
        "outputId": "07c4a204-6ea2-4dd5-c176-7c03224edfd9"
      },
      "execution_count": null,
      "outputs": [
        {
          "output_type": "stream",
          "name": "stdout",
          "text": [
            "첫번째 수를 입력하세요10\n",
            "두번째 수를 입력하세요30\n",
            " 더 큰수는30입니다.\n"
          ]
        }
      ]
    },
    {
      "cell_type": "code",
      "source": [
        "# 점수를 입력받아 아래 기준에 따라 학점을 출력하세요.\n",
        "score = int(input(\"점수를 입력하세요: \"))\n",
        "\n",
        "if score>=90:\n",
        "    print(\"A\")\n",
        "elif score>=80:\n",
        "    print(\"B\")\n",
        "elif score>=70:\n",
        "    print(\"C\")\n",
        "else:\n",
        "    print(\"D\")"
      ],
      "metadata": {
        "colab": {
          "base_uri": "https://localhost:8080/"
        },
        "id": "onCSKRCm646x",
        "outputId": "8157e6f0-8875-4438-fddd-b82ab7578a66"
      },
      "execution_count": null,
      "outputs": [
        {
          "output_type": "stream",
          "name": "stdout",
          "text": [
            "점수를 입력하세요59\n",
            "D\n"
          ]
        }
      ]
    },
    {
      "cell_type": "code",
      "source": [
        "# 5.숫자 리스트 [3, 7, 9, 12] 안에 입력받은 숫자가 있는지 확인하세요.\n",
        "my_list =[3, 7, 9, 12]\n",
        "\n",
        "x = int(input(\"검색할 숫자를 입력하세요\"))\n",
        "\n",
        "if x in my_list:\n",
        "    print(f\"리스트에 {x}가 있습니다.\")\n",
        "else:\n",
        "    print(f\"리스트에 {x}가 없습니다.\")\n"
      ],
      "metadata": {
        "colab": {
          "base_uri": "https://localhost:8080/"
        },
        "id": "aRoQENDr786w",
        "outputId": "4b43d4ad-4703-44de-8f13-617a1ad48102"
      },
      "execution_count": null,
      "outputs": [
        {
          "output_type": "stream",
          "name": "stdout",
          "text": [
            "검색할 숫자를 입력하세요9\n",
            "리스트에 9가 있습니다.\n"
          ]
        }
      ]
    },
    {
      "cell_type": "code",
      "source": [
        "# 6.두 개의 정수를 입력받아 같으면 \"같습니다\", 다르면 \"다릅니다\"를 출력하세요.\n",
        "x=int(input(\"첫번째 숫자 입력\"))\n",
        "y=int(input(\"두번째 숫자 입력\"))\n",
        "\n",
        "if x==y:\n",
        "    print(f\"{x}와 {y}는 같습니다.\")\n",
        "else:\n",
        "    print(f\"{x}와 {y}는 같지 않습니다.\")\n"
      ],
      "metadata": {
        "id": "jnONs2YA8eeX"
      },
      "execution_count": null,
      "outputs": []
    },
    {
      "cell_type": "code",
      "source": [
        "# 7.사용자로부터 문자열을 입력받아 길이가 5자 이상이면 “길어요”, 아니면 “짧아요”를 출력하세요.\n",
        "\n",
        "word = input(\"단어를 입력하세요: \")\n",
        "\n",
        "if len(word)>=5:\n",
        "    print(\"길어요\")\n",
        "else:\n",
        "    print(\"짧아요\")\n"
      ],
      "metadata": {
        "id": "8wK7vKHc81WA"
      },
      "execution_count": null,
      "outputs": []
    },
    {
      "cell_type": "code",
      "source": [
        "# 8 정수를 입력받아 1 이상 100 이하인지 확인하고, 범위 안에 있으면 \"정상\", 아니면 \"범위 초과\"를 출력하세요.\n",
        "# 입력 예: 150\n",
        "# 출력 예: 범위 초과\n",
        "num1 = int(input(\"숫자를 입력하세요\"))\n",
        "if 1<=num1 & num1<=100:\n",
        "    print(\"범위안\")\n",
        "else:\n",
        "    print(\"범위밖\")"
      ],
      "metadata": {
        "id": "D9NcInsRu7GE"
      },
      "execution_count": null,
      "outputs": []
    },
    {
      "cell_type": "code",
      "source": [
        "# 9.아이디는 \"admin\", 비밀번호는 \"1234\"일 때만 \"로그인 성공\"을 출력하세요.\n",
        "admin = input(\"아이디를 입력하세요\")\n",
        "pw = int(input(\"비밀번호를 입력하세요\"))\n",
        "\n",
        "if admin==\"admin\" and pw==1234:\n",
        "    print(\"로그인 성공\")\n",
        "else:\n",
        "    print(\"로그인 실패\")\n"
      ],
      "metadata": {
        "id": "IIXQWi8CvC1b",
        "outputId": "f40361c3-6f3e-456d-96d8-1947812edab1",
        "colab": {
          "base_uri": "https://localhost:8080/",
          "height": 391
        }
      },
      "execution_count": null,
      "outputs": [
        {
          "output_type": "error",
          "ename": "KeyboardInterrupt",
          "evalue": "Interrupted by user",
          "traceback": [
            "\u001b[0;31m---------------------------------------------------------------------------\u001b[0m",
            "\u001b[0;31mKeyboardInterrupt\u001b[0m                         Traceback (most recent call last)",
            "\u001b[0;32m<ipython-input-3-90a81fa376f7>\u001b[0m in \u001b[0;36m<cell line: 0>\u001b[0;34m()\u001b[0m\n\u001b[1;32m      1\u001b[0m \u001b[0;31m# 9.아이디는 \"admin\", 비밀번호는 \"1234\"일 때만 \"로그인 성공\"을 출력하세요.\u001b[0m\u001b[0;34m\u001b[0m\u001b[0;34m\u001b[0m\u001b[0m\n\u001b[1;32m      2\u001b[0m \u001b[0madmin\u001b[0m \u001b[0;34m=\u001b[0m \u001b[0minput\u001b[0m\u001b[0;34m(\u001b[0m\u001b[0;34m\"아이디를 입력하세요\"\u001b[0m\u001b[0;34m)\u001b[0m\u001b[0;34m\u001b[0m\u001b[0;34m\u001b[0m\u001b[0m\n\u001b[0;32m----> 3\u001b[0;31m \u001b[0mpw\u001b[0m \u001b[0;34m=\u001b[0m \u001b[0mint\u001b[0m\u001b[0;34m(\u001b[0m\u001b[0minput\u001b[0m\u001b[0;34m(\u001b[0m\u001b[0;34m\"비밀번호를 입력하세요\"\u001b[0m\u001b[0;34m)\u001b[0m\u001b[0;34m)\u001b[0m\u001b[0;34m\u001b[0m\u001b[0;34m\u001b[0m\u001b[0m\n\u001b[0m\u001b[1;32m      4\u001b[0m \u001b[0;34m\u001b[0m\u001b[0m\n\u001b[1;32m      5\u001b[0m \u001b[0;32mif\u001b[0m \u001b[0madmin\u001b[0m\u001b[0;34m==\u001b[0m\u001b[0;34m\"admin\"\u001b[0m \u001b[0;32mand\u001b[0m \u001b[0mpw\u001b[0m\u001b[0;34m==\u001b[0m\u001b[0;36m1234\u001b[0m\u001b[0;34m:\u001b[0m\u001b[0;34m\u001b[0m\u001b[0;34m\u001b[0m\u001b[0m\n",
            "\u001b[0;32m/usr/local/lib/python3.11/dist-packages/ipykernel/kernelbase.py\u001b[0m in \u001b[0;36mraw_input\u001b[0;34m(self, prompt)\u001b[0m\n\u001b[1;32m   1175\u001b[0m                 \u001b[0;34m\"raw_input was called, but this frontend does not support input requests.\"\u001b[0m\u001b[0;34m\u001b[0m\u001b[0;34m\u001b[0m\u001b[0m\n\u001b[1;32m   1176\u001b[0m             )\n\u001b[0;32m-> 1177\u001b[0;31m         return self._input_request(\n\u001b[0m\u001b[1;32m   1178\u001b[0m             \u001b[0mstr\u001b[0m\u001b[0;34m(\u001b[0m\u001b[0mprompt\u001b[0m\u001b[0;34m)\u001b[0m\u001b[0;34m,\u001b[0m\u001b[0;34m\u001b[0m\u001b[0;34m\u001b[0m\u001b[0m\n\u001b[1;32m   1179\u001b[0m             \u001b[0mself\u001b[0m\u001b[0;34m.\u001b[0m\u001b[0m_parent_ident\u001b[0m\u001b[0;34m[\u001b[0m\u001b[0;34m\"shell\"\u001b[0m\u001b[0;34m]\u001b[0m\u001b[0;34m,\u001b[0m\u001b[0;34m\u001b[0m\u001b[0;34m\u001b[0m\u001b[0m\n",
            "\u001b[0;32m/usr/local/lib/python3.11/dist-packages/ipykernel/kernelbase.py\u001b[0m in \u001b[0;36m_input_request\u001b[0;34m(self, prompt, ident, parent, password)\u001b[0m\n\u001b[1;32m   1217\u001b[0m             \u001b[0;32mexcept\u001b[0m \u001b[0mKeyboardInterrupt\u001b[0m\u001b[0;34m:\u001b[0m\u001b[0;34m\u001b[0m\u001b[0;34m\u001b[0m\u001b[0m\n\u001b[1;32m   1218\u001b[0m                 \u001b[0;31m# re-raise KeyboardInterrupt, to truncate traceback\u001b[0m\u001b[0;34m\u001b[0m\u001b[0;34m\u001b[0m\u001b[0m\n\u001b[0;32m-> 1219\u001b[0;31m                 \u001b[0;32mraise\u001b[0m \u001b[0mKeyboardInterrupt\u001b[0m\u001b[0;34m(\u001b[0m\u001b[0;34m\"Interrupted by user\"\u001b[0m\u001b[0;34m)\u001b[0m \u001b[0;32mfrom\u001b[0m \u001b[0;32mNone\u001b[0m\u001b[0;34m\u001b[0m\u001b[0;34m\u001b[0m\u001b[0m\n\u001b[0m\u001b[1;32m   1220\u001b[0m             \u001b[0;32mexcept\u001b[0m \u001b[0mException\u001b[0m\u001b[0;34m:\u001b[0m\u001b[0;34m\u001b[0m\u001b[0;34m\u001b[0m\u001b[0m\n\u001b[1;32m   1221\u001b[0m                 \u001b[0mself\u001b[0m\u001b[0;34m.\u001b[0m\u001b[0mlog\u001b[0m\u001b[0;34m.\u001b[0m\u001b[0mwarning\u001b[0m\u001b[0;34m(\u001b[0m\u001b[0;34m\"Invalid Message:\"\u001b[0m\u001b[0;34m,\u001b[0m \u001b[0mexc_info\u001b[0m\u001b[0;34m=\u001b[0m\u001b[0;32mTrue\u001b[0m\u001b[0;34m)\u001b[0m\u001b[0;34m\u001b[0m\u001b[0;34m\u001b[0m\u001b[0m\n",
            "\u001b[0;31mKeyboardInterrupt\u001b[0m: Interrupted by user"
          ]
        }
      ]
    },
    {
      "cell_type": "code",
      "source": [
        "# 10 정수를 입력받아 3의 배수인지 아닌지를 판별하세요.\n",
        "\n",
        "# 입력 예: 9\n",
        "# 출력 예: 3의 배수입니다.\n",
        "\n",
        "num1 = int(input(\"숫자를 입력하세요 : \"))\n",
        "if num1%3==0:\n",
        "    print(\"3의 배수입니다\")\n",
        "else:\n",
        "    print(\"3의 배수가 아닙니다\")"
      ],
      "metadata": {
        "id": "TuqBPDtnvI2c"
      },
      "execution_count": null,
      "outputs": []
    },
    {
      "cell_type": "markdown",
      "source": [
        "# 8-1.반복문"
      ],
      "metadata": {
        "id": "mrECj7fHyUx5"
      }
    },
    {
      "cell_type": "code",
      "source": [
        "nums = [10, 20, 30, 40, 50]\n",
        "print(nums[0])    # 10\n",
        "print(nums[-1])   # 마지막 요소: 50\n",
        "print(nums[1:4])  # 20, 30, 40\n"
      ],
      "metadata": {
        "colab": {
          "base_uri": "https://localhost:8080/"
        },
        "id": "LVNQzlmL6hgM",
        "outputId": "1130a556-6a65-42c5-b335-1fc0af31c17c"
      },
      "execution_count": null,
      "outputs": [
        {
          "output_type": "stream",
          "name": "stdout",
          "text": [
            "10\n",
            "50\n",
            "[20, 30, 40]\n"
          ]
        }
      ]
    },
    {
      "cell_type": "code",
      "source": [
        "animals = [\"개\", \"고양이\", \"토끼\"]\n",
        "for animal in animals:\n",
        "    print(animal)\n"
      ],
      "metadata": {
        "colab": {
          "base_uri": "https://localhost:8080/"
        },
        "id": "jbBacyk36mym",
        "outputId": "6cc7300d-69a3-45a2-e36c-e6795b77e2a5"
      },
      "execution_count": null,
      "outputs": [
        {
          "output_type": "stream",
          "name": "stdout",
          "text": [
            "개\n",
            "고양이\n",
            "토끼\n"
          ]
        }
      ]
    },
    {
      "cell_type": "code",
      "source": [
        "# 과일 리스트\n",
        "fruits =[\"사과\",\"바나나\",\"딸기\"]\n",
        "\n",
        "print(\"과일 목록:\")\n",
        "for f in fruits:\n",
        "    print(\"-\", f)"
      ],
      "metadata": {
        "colab": {
          "base_uri": "https://localhost:8080/"
        },
        "id": "qRGqX42B6sS7",
        "outputId": "59f829b1-fbe2-4785-e9c5-ee3d0af5dbbe"
      },
      "execution_count": null,
      "outputs": [
        {
          "output_type": "stream",
          "name": "stdout",
          "text": [
            "과일 목록:\n",
            "- 사과\n",
            "- 바나나\n",
            "- 딸기\n"
          ]
        }
      ]
    },
    {
      "cell_type": "code",
      "source": [
        "names=[]\n",
        "\n",
        "for i in range(3):\n",
        "    name = input(f\"{i+1}번째 이름을 입력하세요: \")\n",
        "    names.append(name)\n",
        "\n",
        "print(\"입력한 이름들:\",names)"
      ],
      "metadata": {
        "id": "3P2hWYwg67ur"
      },
      "execution_count": null,
      "outputs": []
    },
    {
      "cell_type": "markdown",
      "source": [
        "# 8-2.실습문제-배열반복문"
      ],
      "metadata": {
        "id": "EYmB_xxH7r70"
      }
    },
    {
      "cell_type": "code",
      "source": [
        "# 숫자 5개로 이루어진 리스트를 생성하고, 모든 요소의 합과 평균을 출력하시오.\n",
        "num_list =[10,15,20,25,30]\n",
        "\n",
        "sum=0\n",
        "for num in num_list:\n",
        "    sum+=num\n",
        "\n",
        "avg=int(sum/len(num_list))\n",
        "\n",
        "print(f\"리스트 합: {sum}\")\n",
        "print(f\"리스트 평균: {avg}\")\n"
      ],
      "metadata": {
        "colab": {
          "base_uri": "https://localhost:8080/"
        },
        "id": "h8XtEqgH77yb",
        "outputId": "f65af9ac-60e9-40bc-f875-49b08c257772"
      },
      "execution_count": null,
      "outputs": [
        {
          "output_type": "stream",
          "name": "stdout",
          "text": [
            "리스트 합: 100\n",
            "리스트 평균: 20\n"
          ]
        }
      ]
    },
    {
      "cell_type": "code",
      "source": [
        "# 리스트에 저장된 점수 중 60점 이상만 출력하시오.\n",
        "score =[55,90,70,60,100]\n",
        "\n",
        "count=0\n",
        "\n",
        "for i in score :\n",
        "    if i >=60:\n",
        "        print(i)\n",
        "        count+=1\n",
        "\n",
        "\n",
        "print(f\"60점 이상인 학생 수: {count}명\")"
      ],
      "metadata": {
        "colab": {
          "base_uri": "https://localhost:8080/"
        },
        "id": "Pnjk50qa7xsD",
        "outputId": "dbbb19ba-99ae-405f-8a75-f03086fb19c5"
      },
      "execution_count": null,
      "outputs": [
        {
          "output_type": "stream",
          "name": "stdout",
          "text": [
            "60점 이상인 학생 수: 4명\n"
          ]
        }
      ]
    },
    {
      "cell_type": "code",
      "source": [
        "# 3명의 이름을 입력받아 리스트에 저장한 후 출력하시오.\n",
        "names=[]\n",
        "\n",
        "for i in range(3):\n",
        "    name=input(\"이름을 입력하세요\")\n",
        "    names.append(name)\n",
        "print(names)"
      ],
      "metadata": {
        "id": "_DUbzPGc7z6r",
        "colab": {
          "base_uri": "https://localhost:8080/"
        },
        "outputId": "de33b545-e0ee-49b1-f8d2-70d4b8ef6445"
      },
      "execution_count": null,
      "outputs": [
        {
          "output_type": "stream",
          "name": "stdout",
          "text": [
            "이름을 입력하세요가\n",
            "이름을 입력하세요나\n",
            "이름을 입력하세요다\n",
            "['가', '나', '다']\n"
          ]
        }
      ]
    },
    {
      "cell_type": "code",
      "source": [
        "# 사용자로부터 과일 이름 3개를 입력받아 리스트로 저장하고, 그 중 첫 번째 과일만 출력하시오.\n",
        "fruits=[]\n",
        "\n",
        "\n",
        "for i in range(3):\n",
        "    fruit=input(\"과일 이름을 입력하세요\")\n",
        "    fruits.append(fruit)\n",
        "\n",
        "\n",
        "print(f\"첫번째 과일 : {fruits[0]}\")"
      ],
      "metadata": {
        "colab": {
          "base_uri": "https://localhost:8080/"
        },
        "collapsed": true,
        "id": "tcfn3CaK_Mta",
        "outputId": "8fe1ec78-cfdf-4ea5-cbd9-5fa22994cdc7"
      },
      "execution_count": null,
      "outputs": [
        {
          "output_type": "stream",
          "name": "stdout",
          "text": [
            "과일 이름을 입력하세요사과\n",
            "과일 이름을 입력하세요딸기\n",
            "과일 이름을 입력하세요포토\n",
            "첫번째 과일 : 사과\n"
          ]
        }
      ]
    },
    {
      "cell_type": "code",
      "source": [
        "# 리스트 [1, 2, 3, 4, 5]에서 짝수만 새로운 리스트에 담고 출력하시오\n",
        "\n",
        "num_list =[1,2,3,4,5]\n",
        "new_list=[]\n",
        "for num in num_list:\n",
        "    if num%2==0:\n",
        "        new_list.append(num)\n",
        "\n",
        "print(new_list)"
      ],
      "metadata": {
        "colab": {
          "base_uri": "https://localhost:8080/"
        },
        "id": "zx86dGbX76Mr",
        "outputId": "0dabafe1-9938-45d0-dd94-d7012ad66a05"
      },
      "execution_count": null,
      "outputs": [
        {
          "output_type": "stream",
          "name": "stdout",
          "text": [
            "[2, 4]\n"
          ]
        }
      ]
    },
    {
      "cell_type": "markdown",
      "source": [
        "# 8-3. 배열반복문"
      ],
      "metadata": {
        "id": "d-PXABzPGt8Q"
      }
    },
    {
      "cell_type": "code",
      "source": [
        "# nums =[]\n",
        "# num=0\n",
        "# for i in range(10):\n",
        "#     num+=1\n",
        "#     nums.append(num)\n",
        "\n",
        "# print(nums)\n",
        "\n",
        "for i in range(1,11,2):#range(시작값, 끝값, 간격)\n",
        "    print(i)"
      ],
      "metadata": {
        "colab": {
          "base_uri": "https://localhost:8080/"
        },
        "id": "OSYR0OeKHpjf",
        "outputId": "fe7eca4c-1890-4f61-e098-5946e9efd2c4"
      },
      "execution_count": 7,
      "outputs": [
        {
          "output_type": "stream",
          "name": "stdout",
          "text": [
            "1\n",
            "3\n",
            "5\n",
            "7\n",
            "9\n"
          ]
        }
      ]
    },
    {
      "cell_type": "code",
      "source": [
        "str1 =\"안녕하세요\"\n",
        "\n",
        "num =int(input(\"숫자를 입력하세요\"))\n",
        "\n",
        "for i in range(num) :\n",
        "    print(str1)"
      ],
      "metadata": {
        "colab": {
          "base_uri": "https://localhost:8080/"
        },
        "id": "aRokNFqsJgX2",
        "outputId": "6f99892a-4e04-4c70-f90f-adc6b5f4d7d8"
      },
      "execution_count": null,
      "outputs": [
        {
          "output_type": "stream",
          "name": "stdout",
          "text": [
            "숫자를 입력하세요10\n",
            "안녕하세요\n",
            "안녕하세요\n",
            "안녕하세요\n",
            "안녕하세요\n",
            "안녕하세요\n",
            "안녕하세요\n",
            "안녕하세요\n",
            "안녕하세요\n",
            "안녕하세요\n",
            "안녕하세요\n"
          ]
        }
      ]
    },
    {
      "cell_type": "code",
      "source": [
        "result = \"\"\n",
        "for i in range(1, 101):\n",
        "    if i % 4 == 0:\n",
        "        result += str(i)+\",\"\n",
        "\n",
        "print(result.rstrip(\",\"))#맨끝 쉼표 제거"
      ],
      "metadata": {
        "colab": {
          "base_uri": "https://localhost:8080/"
        },
        "id": "oAn-eDW-KCCG",
        "outputId": "56afa75c-3d8f-4cde-f11e-d4bfd1573a29"
      },
      "execution_count": null,
      "outputs": [
        {
          "output_type": "stream",
          "name": "stdout",
          "text": [
            "4,8,12,16,20,24,28,32,36,40,44,48,52,56,60,64,68,72,76,80,84,88,92,96,100\n"
          ]
        }
      ]
    },
    {
      "cell_type": "code",
      "source": [
        "# 사용자로부터 숫자 5개를 입력받아 리스트에 저장하고, 반복문을 사용하여 모두 출력하시오\n",
        "nums=[]\n",
        "\n",
        "for num in range(5):\n",
        "    num=int(input(\"숫자를 입력하세요\"))\n",
        "    nums.append(num)\n",
        "print(nums)"
      ],
      "metadata": {
        "colab": {
          "base_uri": "https://localhost:8080/"
        },
        "id": "7tMIShRXiFTV",
        "outputId": "2b0be06c-fc7d-40f6-eeae-361bd0bb1eb0"
      },
      "execution_count": null,
      "outputs": [
        {
          "output_type": "stream",
          "name": "stdout",
          "text": [
            "숫자를 입력하세요5\n",
            "숫자를 입력하세요55\n",
            "숫자를 입력하세요4\n",
            "숫자를 입력하세요25\n",
            "숫자를 입력하세요3\n",
            "[5, 55, 4, 25, 3]\n"
          ]
        }
      ]
    },
    {
      "cell_type": "code",
      "source": [
        "# 1부터 10까지의 숫자를 더한 총합을 출력하시오.\n",
        "sum=0\n",
        "for i in range(11):\n",
        "    sum+=i\n",
        "\n",
        "\n",
        "print(f\"총 합은 : {sum}\")"
      ],
      "metadata": {
        "colab": {
          "base_uri": "https://localhost:8080/"
        },
        "id": "QPgRkCyxi0Pf",
        "outputId": "4f0b0741-ad21-4e09-d9c4-ab14c2f9e05a"
      },
      "execution_count": null,
      "outputs": [
        {
          "output_type": "stream",
          "name": "stdout",
          "text": [
            "총 합은 : 55\n"
          ]
        }
      ]
    },
    {
      "cell_type": "markdown",
      "source": [
        "# 9-1. 함수의정의"
      ],
      "metadata": {
        "id": "uuhFX9kVn__F"
      }
    },
    {
      "cell_type": "code",
      "source": [
        "def greet(name):\n",
        "    return f\"Hello {name}!\"\n",
        "message=greet(\"Alice\")\n",
        "\n",
        "print(message)"
      ],
      "metadata": {
        "colab": {
          "base_uri": "https://localhost:8080/"
        },
        "id": "brUeXpSzoiFN",
        "outputId": "a939fc8d-9f05-49bd-b2ef-9115a7817798"
      },
      "execution_count": null,
      "outputs": [
        {
          "output_type": "stream",
          "name": "stdout",
          "text": [
            "Hello Alice!\n"
          ]
        }
      ]
    },
    {
      "cell_type": "code",
      "source": [
        "def add(a,b):\n",
        "    return a+b\n",
        "result = add(5,4)\n",
        "print(result)"
      ],
      "metadata": {
        "colab": {
          "base_uri": "https://localhost:8080/"
        },
        "id": "DQIaRjtDovny",
        "outputId": "cb6235ba-f269-440f-a8c7-faf37ade7707"
      },
      "execution_count": null,
      "outputs": [
        {
          "output_type": "stream",
          "name": "stdout",
          "text": [
            "9\n"
          ]
        }
      ]
    },
    {
      "cell_type": "markdown",
      "source": [
        "#9-2.함수의 유형"
      ],
      "metadata": {
        "id": "FgkR0dihoSae"
      }
    },
    {
      "cell_type": "code",
      "source": [
        "# 매개변수가 없는 함수\n",
        "def say_hello():\n",
        "    print(\"Hello\")\n",
        "\n",
        "say_hello()"
      ],
      "metadata": {
        "colab": {
          "base_uri": "https://localhost:8080/"
        },
        "id": "hLq3hw2zo5dE",
        "outputId": "50456d2c-7b86-45a1-82a1-7556dd97a9ec"
      },
      "execution_count": null,
      "outputs": [
        {
          "output_type": "stream",
          "name": "stdout",
          "text": [
            "Hello\n"
          ]
        }
      ]
    },
    {
      "cell_type": "code",
      "source": [
        "# 반환값이 없는 함수\n",
        "def greet(name=\"guest\"):\n",
        "    print(f\"Hello {name}님!\")\n",
        "\n",
        "greet(\"Alice\")\n",
        "greet()"
      ],
      "metadata": {
        "colab": {
          "base_uri": "https://localhost:8080/"
        },
        "id": "tD_5VXDppKku",
        "outputId": "8afa915b-19d5-4173-ce22-b014938c17cb"
      },
      "execution_count": null,
      "outputs": [
        {
          "output_type": "stream",
          "name": "stdout",
          "text": [
            "Hello Alice님!\n",
            "Hello guest님!\n"
          ]
        }
      ]
    },
    {
      "cell_type": "code",
      "source": [
        "# 매개변수의 개수가 가변적인 경우, args나 *kwargs를 사용합니다.\n",
        "def add_numbers(*keyword):\n",
        "    return sum(keyword)#sum() 내장함수\n",
        "\n",
        "print(add_numbers(1,2,3,4))\n",
        "# *keyword에서 *의 의미는 \"가변 인자\"를 받겠다는 뜻입니다.\n",
        "# 즉, 함수에 몇 개의 인자를 넣든 전부 **하나의 튜플(tuple)**로 묶어서 keyword에 전달합니다.\n",
        "\n",
        "\n"
      ],
      "metadata": {
        "colab": {
          "base_uri": "https://localhost:8080/"
        },
        "id": "IXvjoFLxphCz",
        "outputId": "75bc112b-f5b0-41fc-fc64-ce67bccb1364"
      },
      "execution_count": 5,
      "outputs": [
        {
          "output_type": "stream",
          "name": "stdout",
          "text": [
            "10\n"
          ]
        }
      ]
    },
    {
      "cell_type": "code",
      "source": [
        "# 매개변수의 개수가 가변적인 경우, args나 *keys를 사용합니다.\n",
        "def print_info(**keys):\n",
        "    for key, value in keys.items():\n",
        "        print(f\"{key}:{value}\")\n",
        "\n",
        "print_info(name=\"Alice\",age=25)\n",
        "\n",
        "\n",
        ""
      ],
      "metadata": {
        "colab": {
          "base_uri": "https://localhost:8080/"
        },
        "id": "MGu0LJDOqrbr",
        "outputId": "244b0fe0-d76f-4055-8762-2f32cb4d55d8"
      },
      "execution_count": 2,
      "outputs": [
        {
          "output_type": "stream",
          "name": "stdout",
          "text": [
            "name:Alice\n",
            "age:25\n"
          ]
        }
      ]
    },
    {
      "cell_type": "markdown",
      "source": [
        "# 9-3 lambda"
      ],
      "metadata": {
        "id": "Nu1joiD4oWbf"
      }
    },
    {
      "cell_type": "code",
      "source": [
        "square=lambda x:x**2\n",
        "print(square(5))\n",
        "print(square(6))\n",
        "\n",
        "circle =lambda a,b,c:a*b*c\n",
        "\n",
        "print(circle(2,4,3))"
      ],
      "metadata": {
        "colab": {
          "base_uri": "https://localhost:8080/"
        },
        "id": "ZIqVWPmZ14iU",
        "outputId": "cfef0c96-1e17-4565-bb02-84ed4d360d5c"
      },
      "execution_count": null,
      "outputs": [
        {
          "output_type": "stream",
          "name": "stdout",
          "text": [
            "25\n",
            "36\n",
            "24\n"
          ]
        }
      ]
    },
    {
      "cell_type": "markdown",
      "source": [
        "# 9-4 실습예제"
      ],
      "metadata": {
        "id": "LsIGShqvmh0i"
      }
    },
    {
      "cell_type": "code",
      "source": [
        "#  리스트의 각 항목 제곱하기 (map + lambda)\n",
        "numbers =[1,2,3,4,5]\n",
        "squares =list(map(lambda x:x **2,numbers))\n",
        "\n",
        "print(squares)"
      ],
      "metadata": {
        "colab": {
          "base_uri": "https://localhost:8080/"
        },
        "id": "x9yjJ2GMmmoO",
        "outputId": "17504fb2-1191-413c-95c6-22a197146a83"
      },
      "execution_count": 9,
      "outputs": [
        {
          "output_type": "stream",
          "name": "stdout",
          "text": [
            "[1, 4, 9, 16, 25]\n"
          ]
        }
      ]
    },
    {
      "cell_type": "code",
      "source": [
        "# 특정 조건으로 필터링 (filter + lambda)\n",
        "\n",
        "numbers = [10, 15, 21, 30, 33, 40]\n",
        "result =list(filter(lambda x:x%3==0,numbers))\n",
        "\n",
        "print(result)"
      ],
      "metadata": {
        "colab": {
          "base_uri": "https://localhost:8080/"
        },
        "id": "EWUuhOh7m_J-",
        "outputId": "b82a5fe1-630b-47cd-8927-4f8c4c5fca87"
      },
      "execution_count": 10,
      "outputs": [
        {
          "output_type": "stream",
          "name": "stdout",
          "text": [
            "[15, 21, 30, 33]\n"
          ]
        }
      ]
    },
    {
      "cell_type": "code",
      "source": [
        "# 3. 리스트 정렬 기준 지정 (sorted + lambda)\n",
        "\n",
        "students = [\n",
        "    (\"홍길동\", 90),\n",
        "    (\"이순신\", 85),\n",
        "    (\"유관순\", 95)\n",
        "]\n",
        "\n",
        "sorted_students = sorted(students,key=lambda x:x[1], reverse=True)\n",
        "\n",
        "print(sorted_students)"
      ],
      "metadata": {
        "colab": {
          "base_uri": "https://localhost:8080/"
        },
        "id": "WoetaMtonRyh",
        "outputId": "87236537-240d-4c25-e4cd-8cbd6aaa395e"
      },
      "execution_count": 11,
      "outputs": [
        {
          "output_type": "stream",
          "name": "stdout",
          "text": [
            "[('유관순', 95), ('홍길동', 90), ('이순신', 85)]\n"
          ]
        }
      ]
    },
    {
      "cell_type": "code",
      "source": [
        "def outer_function(msg):\n",
        "    def inner_function():\n",
        "        print(msg+ \"!!!!\")\n",
        "    inner_function()\n",
        "outer_function(\"hello python\")"
      ],
      "metadata": {
        "colab": {
          "base_uri": "https://localhost:8080/"
        },
        "id": "DhLho4eS2eWr",
        "outputId": "6e8a7304-34df-47eb-86b3-50a96e9734a7"
      },
      "execution_count": 6,
      "outputs": [
        {
          "output_type": "stream",
          "name": "stdout",
          "text": [
            "hello python!!!!\n"
          ]
        }
      ]
    },
    {
      "cell_type": "code",
      "source": [
        "def factorial(n):\n",
        "    if n==1:\n",
        "        return 1\n",
        "    return n*factorial(n-1)\n",
        "\n",
        "print(factorial(5))"
      ],
      "metadata": {
        "colab": {
          "base_uri": "https://localhost:8080/"
        },
        "id": "RlCOdUCV2xHj",
        "outputId": "c093fe0e-dc14-4e05-9778-6ab83b079edc"
      },
      "execution_count": null,
      "outputs": [
        {
          "output_type": "stream",
          "name": "stdout",
          "text": [
            "120\n"
          ]
        }
      ]
    },
    {
      "cell_type": "markdown",
      "source": [
        "# 9-5 중첩함수"
      ],
      "metadata": {
        "id": "yyrP7hE7oaV8"
      }
    },
    {
      "cell_type": "code",
      "source": [
        "def outer_function(msg):\n",
        "    def inner_function():\n",
        "        print(msg)\n",
        "\n",
        "    inner_function()\n",
        "\n",
        "outer_function(\"hello, python!\")"
      ],
      "metadata": {
        "colab": {
          "base_uri": "https://localhost:8080/"
        },
        "id": "xlxN41u7oQL6",
        "outputId": "9870aa83-73b9-4608-8aff-3dc8f193ac36"
      },
      "execution_count": 12,
      "outputs": [
        {
          "output_type": "stream",
          "name": "stdout",
          "text": [
            "hello, python!\n"
          ]
        }
      ]
    },
    {
      "cell_type": "code",
      "source": [
        "def outer(name):\n",
        "    def inner():\n",
        "        return f\"{name} 안녕하세요\"\n",
        "    return inner()\n",
        "\n",
        "print(outer(\"홍길동\"))"
      ],
      "metadata": {
        "colab": {
          "base_uri": "https://localhost:8080/"
        },
        "id": "WW8rA688ofUH",
        "outputId": "9cbcd3f2-4ddd-431e-8663-be955e4ae383"
      },
      "execution_count": 13,
      "outputs": [
        {
          "output_type": "stream",
          "name": "stdout",
          "text": [
            "홍길동 안녕하세요\n"
          ]
        }
      ]
    },
    {
      "cell_type": "code",
      "source": [
        "def greeting(name):\n",
        "    def message():\n",
        "        print(f\"{name}님 환영합니다.\")\n",
        "    return message\n",
        "\n",
        "say_hi=greeting(\"파이썬\")\n",
        "\n",
        "say_hi()"
      ],
      "metadata": {
        "colab": {
          "base_uri": "https://localhost:8080/"
        },
        "id": "VylSat-Uowdd",
        "outputId": "306755d9-1701-4def-9dbe-ecb235f2763d"
      },
      "execution_count": 15,
      "outputs": [
        {
          "output_type": "stream",
          "name": "stdout",
          "text": [
            "파이썬님 환영합니다.\n"
          ]
        }
      ]
    },
    {
      "cell_type": "code",
      "source": [
        "#최대값 찾기\n",
        "def max_fun(num):\n",
        "    return max(num)\n",
        "\n",
        "def min_fun(num):\n",
        "    return min(num)\n",
        "print(max_fun([1,2,3,4,5]))\n",
        "print(min_fun([1,2,3,4,5]))"
      ],
      "metadata": {
        "colab": {
          "base_uri": "https://localhost:8080/"
        },
        "id": "IDxuzv9v4Mrc",
        "outputId": "38f4e551-a74f-4e0c-ea95-030591e2f708"
      },
      "execution_count": null,
      "outputs": [
        {
          "output_type": "stream",
          "name": "stdout",
          "text": [
            "5\n",
            "1\n"
          ]
        }
      ]
    },
    {
      "cell_type": "code",
      "source": [
        "def reverse_string(s):\n",
        "    return s[s::-1]\n",
        "\n",
        "print(reverse_string)"
      ],
      "metadata": {
        "id": "z00TDIhq6Z_K"
      },
      "execution_count": null,
      "outputs": []
    },
    {
      "cell_type": "markdown",
      "source": [
        "# 10.리스트"
      ],
      "metadata": {
        "id": "EbncE0LlFPN6"
      }
    },
    {
      "cell_type": "code",
      "source": [
        "nums = [1, 3, 5, 3, 9,3]\n",
        "\n",
        "# nums.remove(3)#순서가 아닌 값value 첫번째 3을 지운다\n",
        "# nums.append(7)\n",
        "nums.insert(2,10)\n",
        "\n",
        "\n",
        "\n",
        "\n",
        "print(nums)\n",
        "\n",
        "nums.sort()\n",
        "print(f\" 정렬된 리스트: {nums}\")\n",
        "\n",
        "nums.reverse()\n",
        "print(f\" 뒤집은 리스트: {nums}\")\n",
        "\n",
        "\n"
      ],
      "metadata": {
        "id": "Z5JEU0nJF_Z5",
        "colab": {
          "base_uri": "https://localhost:8080/"
        },
        "outputId": "c1fd5d46-b761-436f-bcc5-cca91b404032"
      },
      "execution_count": null,
      "outputs": [
        {
          "output_type": "stream",
          "name": "stdout",
          "text": [
            "[1, 3, 10, 5, 3, 9, 3]\n",
            " 정렬된 리스트: [1, 3, 3, 3, 5, 9, 10]\n",
            " 뒤집은 리스트: [10, 9, 5, 3, 3, 3, 1]\n"
          ]
        }
      ]
    },
    {
      "cell_type": "code",
      "source": [
        "import math\n",
        "\n",
        "square =[x**2 for x in range(1,11)]\n",
        "\n",
        "\n",
        "print(square)\n",
        "# radius =[(y**2)*math.pi for y in range(1,5)]\n",
        "radius =[round((y**2)*math.pi,2) for y in range(1,5)]\n",
        "\n",
        "print(radius)\n"
      ],
      "metadata": {
        "colab": {
          "base_uri": "https://localhost:8080/"
        },
        "id": "A6RRHwHfJFaH",
        "outputId": "17f20225-0aa4-4edc-b4f7-ffab8d0b446c"
      },
      "execution_count": null,
      "outputs": [
        {
          "output_type": "stream",
          "name": "stdout",
          "text": [
            "[1, 4, 9, 16, 25, 36, 49, 64, 81, 100]\n",
            "[3.14, 12.57, 28.27, 50.27]\n"
          ]
        }
      ]
    },
    {
      "cell_type": "code",
      "source": [
        "even = [x for x in range(1,21) if x%2==0]\n",
        "\n",
        "print(even)"
      ],
      "metadata": {
        "colab": {
          "base_uri": "https://localhost:8080/"
        },
        "id": "kALO_lUzU-17",
        "outputId": "f4f84ba8-ce0d-4f40-8abe-b3d7a8cb75eb"
      },
      "execution_count": null,
      "outputs": [
        {
          "output_type": "stream",
          "name": "stdout",
          "text": [
            "[2, 4, 6, 8, 10, 12, 14, 16, 18, 20]\n"
          ]
        }
      ]
    },
    {
      "cell_type": "code",
      "source": [
        "# 1. `range(1, 11)`의 수를 모두 리스트에 저장\n",
        "# 2. 각 수의 세제곱을 저장한 리스트 생성 (리스트 컴프리헨션 사용)\n",
        "# 3. 결과 리스트를 오름차순 정렬한 뒤, 뒤집어서 출력\n",
        "\n",
        "squared =[x**3 for x in range(1,11)]\n",
        "\n",
        "print(squared)\n",
        "\n",
        "squared.sort()\n",
        "squared.reverse()\n",
        "\n",
        "print(squared)\n"
      ],
      "metadata": {
        "colab": {
          "base_uri": "https://localhost:8080/"
        },
        "id": "mfxQpr50VLUF",
        "outputId": "d803124f-0364-45d7-cf6e-57e944c01ca4"
      },
      "execution_count": null,
      "outputs": [
        {
          "output_type": "stream",
          "name": "stdout",
          "text": [
            "[1, 8, 27, 64, 125, 216, 343, 512, 729, 1000]\n",
            "[1000, 729, 512, 343, 216, 125, 64, 27, 8, 1]\n"
          ]
        }
      ]
    },
    {
      "cell_type": "code",
      "source": [
        "nums =[]\n",
        "\n",
        "for i in range(5):\n",
        "    n= int(input(f\"{i+1}번 숫자 입력:\"))\n",
        "\n",
        "    nums.append(n)\n",
        "\n",
        "nums.sort()\n",
        "\n",
        "print(f\"정렬된 리스트 : {nums}\")"
      ],
      "metadata": {
        "colab": {
          "base_uri": "https://localhost:8080/"
        },
        "id": "ibT6abVEV0l8",
        "outputId": "9cfdf1f0-79d5-4a72-8ee8-8b3bc83fffc5"
      },
      "execution_count": null,
      "outputs": [
        {
          "output_type": "stream",
          "name": "stdout",
          "text": [
            "1번 숫자 입력:9\n",
            "2번 숫자 입력:4\n",
            "3번 숫자 입력:8\n",
            "4번 숫자 입력:7\n",
            "5번 숫자 입력:3\n",
            "정렬된 리스트 : [3, 4, 7, 8, 9]\n"
          ]
        }
      ]
    },
    {
      "cell_type": "markdown",
      "source": [
        "#11. 튜플과 딕셔너리"
      ],
      "metadata": {
        "id": "SUkwfldgaN1U"
      }
    },
    {
      "cell_type": "code",
      "source": [
        "t = (\"사과\", \"바나나\", \"포도\")\n",
        "\n"
      ],
      "metadata": {
        "id": "vbC3-aVaaS6q"
      },
      "execution_count": null,
      "outputs": []
    }
  ]
}